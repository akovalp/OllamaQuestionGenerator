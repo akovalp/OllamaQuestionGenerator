{
 "cells": [
  {
   "cell_type": "code",
   "execution_count": 1,
   "id": "bea08110",
   "metadata": {},
   "outputs": [
    {
     "name": "stderr",
     "output_type": "stream",
     "text": [
      "/Users/alpmac/anaconda3/envs/thesis/lib/python3.11/site-packages/fuzzywuzzy/fuzz.py:11: UserWarning: Using slow pure-python SequenceMatcher. Install python-Levenshtein to remove this warning\n",
      "  warnings.warn('Using slow pure-python SequenceMatcher. Install python-Levenshtein to remove this warning')\n"
     ]
    },
    {
     "name": "stdout",
     "output_type": "stream",
     "text": [
      "Generating text with model: gemma3:12b\n",
      "Bringing a new dog into your life is so exciting! But sometimes, new dogs need a little training. Don’t worry, it can be fun for both of you.\n",
      "\n",
      "First, start with simple commands like \"sit\" and \"stay.\" Use treats! Hold a treat in your hand and move it over your dog's head, encouraging them to sit. Say “sit” clearly. When they sit, give them the treat and lots of praise! Repeat this many times. \"Stay\" is similar – have your dog sit, say \"stay,\" and hold your hand up. Give a treat when they stay.\n",
      "\n",
      "Next, work on walking nicely on a leash. Keep the leash short and reward your dog for staying close. If they pull, stop walking. Wait for them to stop pulling, then start again. Patience is key!\n",
      "\n",
      "Remember to always be positive. Never yell or punish your dog. Training should be a happy experience. Short, fun sessions are best - maybe 5-10 minutes at a time. With a little effort and lots of love, you and your dog will be best friends!\n",
      "\n",
      "\n",
      "\n",
      "\n",
      "\n",
      "Readability score: 4.4\n",
      "Generation iterations: 1\n"
     ]
    }
   ],
   "source": [
    "import backend\n",
    "from backend import get_available_models\n",
    "# Create an instance of the TextGenerator class\n",
    "# You can specify a model or use the default\n",
    "model_list = get_available_models()\n",
    "text_generator = backend.TextGenerator(model=model_list[0])  # Uses DEFAULT_MODEL if not available\n",
    "\n",
    "# Define generation parameters\n",
    "topic = \"How to train your dog\"\n",
    "language = \"English\"  # Options: \"English\", \"Spanish\", \"French\", \"German\", \"Italian\"\n",
    "level = \"Basic\"  # Options: \"Basic\", \"Intermediate\", \"Advanced\"\n",
    "style = \"Friendly\"  # Options: \"Formal\", \"Informal\", \"Humorous\", \"Serious\", \"Friendly\", \"Easy to read\", \"Neutral\"\n",
    "\n",
    "# Generate the text\n",
    "response = text_generator.generate_text(topic, language, level, style)\n",
    "\n",
    "# Extract the generated text from the response\n",
    "generated_text = response[\"generated_text\"]\n",
    "\n",
    "# Print the text\n",
    "print(generated_text)\n",
    "\n",
    "# You can also access other information from the response\n",
    "print(f\"Readability score: {response.get('score')}\")\n",
    "print(f\"Generation iterations: {response.get('iterations')}\")"
   ]
  },
  {
   "cell_type": "code",
   "execution_count": 2,
   "id": "6b6b7a96",
   "metadata": {},
   "outputs": [
    {
     "data": {
      "text/plain": [
       "{'failed_texts': [],\n",
       " 'generated_text': 'Bringing a new dog into your life is so exciting! But sometimes, new dogs need a little training. Don’t worry, it can be fun for both of you.\\n\\nFirst, start with simple commands like \"sit\" and \"stay.\" Use treats! Hold a treat in your hand and move it over your dog\\'s head, encouraging them to sit. Say “sit” clearly. When they sit, give them the treat and lots of praise! Repeat this many times. \"Stay\" is similar – have your dog sit, say \"stay,\" and hold your hand up. Give a treat when they stay.\\n\\nNext, work on walking nicely on a leash. Keep the leash short and reward your dog for staying close. If they pull, stop walking. Wait for them to stop pulling, then start again. Patience is key!\\n\\nRemember to always be positive. Never yell or punish your dog. Training should be a happy experience. Short, fun sessions are best - maybe 5-10 minutes at a time. With a little effort and lots of love, you and your dog will be best friends!\\n\\n\\n\\n\\n',\n",
       " 'score': 4.4,\n",
       " 'level': 'Basic',\n",
       " 'language': 'English',\n",
       " 'style': 'Friendly',\n",
       " 'iterations': 1}"
      ]
     },
     "execution_count": 2,
     "metadata": {},
     "output_type": "execute_result"
    }
   ],
   "source": [
    "response"
   ]
  },
  {
   "cell_type": "code",
   "execution_count": 6,
   "id": "72eeb4fa",
   "metadata": {},
   "outputs": [
    {
     "name": "stdout",
     "output_type": "stream",
     "text": [
      "Generating questions with model: gemma3:12b\n",
      "{'questions': [{'answer': \"Starting with simple commands like 'sit' and 'stay'\",\n",
      "                'choices': ['Walking nicely on a leash',\n",
      "                            \"Teaching the 'stay' command\",\n",
      "                            \"Starting with simple commands like 'sit' and \"\n",
      "                            \"'stay'\",\n",
      "                            'Punishing the dog for bad behavior',\n",
      "                            \"Ignoring the dog's initial excitement\"],\n",
      "                'question': 'According to the passage, what is the first step '\n",
      "                            'in training a new dog?'},\n",
      "               {'answer': 'Treats',\n",
      "                'choices': ['A loud voice',\n",
      "                            'A leash',\n",
      "                            'Treats',\n",
      "                            'Punishment',\n",
      "                            'Ignoring the dog'],\n",
      "                'question': 'What is recommended to use when teaching a dog to '\n",
      "                            \"'sit'?\"},\n",
      "               {'answer': 'Stop walking',\n",
      "                'choices': ['Continue walking and pull back on the leash',\n",
      "                            'Yell at the dog',\n",
      "                            'Stop walking',\n",
      "                            'Let the dog run freely',\n",
      "                            'Give the dog a treat immediately'],\n",
      "                'question': 'If a dog pulls on the leash during a walk, what '\n",
      "                            'should you do?'},\n",
      "               {'answer': 'Being patient and positive',\n",
      "                'choices': ['Long, intense training sessions',\n",
      "                            'Using negative reinforcement',\n",
      "                            'Being patient and positive',\n",
      "                            \"Ignoring the dog's feelings\",\n",
      "                            'Focusing solely on advanced commands'],\n",
      "                'question': 'What does the passage suggest about the best way '\n",
      "                            'to approach dog training?'},\n",
      "               {'answer': '5-10 minutes',\n",
      "                'choices': ['30-45 minutes',\n",
      "                            'As long as the dog is focused',\n",
      "                            '5-10 minutes',\n",
      "                            'Until the dog performs every command perfectly',\n",
      "                            'Until you feel tired'],\n",
      "                'question': 'How long should training sessions ideally be, '\n",
      "                            'according to the passage?'}]}\n"
     ]
    }
   ],
   "source": [
    "from pprint import pprint\n",
    "question_generator = backend.QuestionGenerator(model=model_list[0]) \n",
    "\n",
    "questions = question_generator.generate_questions(generated_text, num_questions=5, language=response[\"language\"], choices_num=5)  # Uses DEFAULT_MODEL if not available\n",
    "pprint(questions)  # Print the generated questions"
   ]
  }
 ],
 "metadata": {
  "kernelspec": {
   "display_name": "thesis",
   "language": "python",
   "name": "python3"
  },
  "language_info": {
   "codemirror_mode": {
    "name": "ipython",
    "version": 3
   },
   "file_extension": ".py",
   "mimetype": "text/x-python",
   "name": "python",
   "nbconvert_exporter": "python",
   "pygments_lexer": "ipython3",
   "version": "3.11.11"
  }
 },
 "nbformat": 4,
 "nbformat_minor": 5
}
